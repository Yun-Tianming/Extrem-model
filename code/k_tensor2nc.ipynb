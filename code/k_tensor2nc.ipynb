{
 "cells": [
  {
   "cell_type": "code",
   "execution_count": 5,
   "metadata": {
    "collapsed": true
   },
   "outputs": [],
   "source": [
    "from mpl_toolkits.basemap import Basemap, cm\n",
    "import numpy as np\n",
    "import matplotlib.pyplot as plt\n",
    "import torch\n",
    "from skimage.transform import resize\n",
    "from torch import LongTensor, FloatTensor\n",
    "import xarray as xr\n",
    "import netCDF4 as nc\n",
    "import scipy.io as sio"
   ]
  },
  {
   "cell_type": "code",
   "execution_count": 7,
   "outputs": [
    {
     "name": "stdout",
     "output_type": "stream",
     "text": [
      "torch.Size([100, 601, 205])\n",
      "torch.Size([100, 601, 205])\n",
      "torch.Size([100, 601, 205])\n",
      "torch.Size([100, 601, 205])\n",
      "torch.Size([100, 601, 205])\n"
     ]
    }
   ],
   "source": [
    "raw = [\"../data/ExGAN0.001.pt\", \"../data/ExGAN0.005.pt\" ,\"../data/ExGAN0.01.pt\", \"../data/ExGAN0.05.pt\" ,\"../data/DCGAN0.01.pt\", \"../data/DCGAN0.05.pt\"]\n",
    "pro = [\"../data/ExGAN0.001.mat\" ,\"../data/ExGAN0.005.mat\" ,\"../data/ExGAN0.01.mat\" ,\"../data/ExGAN0.05.mat\", \"../data/DCGAN0.01.mat\" ,\"../data/DCGAN0.05.mat\"]\n",
    "for i in range(5):\n",
    "    # Inverse normalization\n",
    "    data=torch.load(raw[i])\n",
    "    n=data.shape[0]\n",
    "    data=data[:,:,:,:].cpu().detach().numpy()\n",
    "    data=data.squeeze()\n",
    "    data=(data+1)/2\n",
    "    data=data*15\n",
    "    data = FloatTensor(resize(data, (n,601, 205)))\n",
    "    data = data - 5\n",
    "    print(data.shape)\n",
    "    # print(data[1,:,:])\n",
    "\n",
    "    # save in mat\n",
    "    array = data.numpy()\n",
    "    sio.savemat(pro[i], {'data': array})"
   ],
   "metadata": {
    "collapsed": false
   }
  },
  {
   "cell_type": "code",
   "execution_count": null,
   "outputs": [],
   "source": [],
   "metadata": {
    "collapsed": false
   }
  }
 ],
 "metadata": {
  "kernelspec": {
   "display_name": "Python 3",
   "language": "python",
   "name": "python3"
  },
  "language_info": {
   "codemirror_mode": {
    "name": "ipython",
    "version": 2
   },
   "file_extension": ".py",
   "mimetype": "text/x-python",
   "name": "python",
   "nbconvert_exporter": "python",
   "pygments_lexer": "ipython2",
   "version": "2.7.6"
  }
 },
 "nbformat": 4,
 "nbformat_minor": 0
}
