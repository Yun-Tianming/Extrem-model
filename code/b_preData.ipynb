{
 "cells": [
  {
   "cell_type": "code",
   "execution_count": 2,
   "metadata": {},
   "outputs": [],
   "source": [
    "from netCDF4 import Dataset as NetCDFFile\n",
    "import numpy as np\n",
    "import matplotlib.pyplot as plt\n",
    "from datetime import datetime, timedelta\n",
    "from urllib.request import urlretrieve\n",
    "import os\n",
    "from torch.utils.data import Dataset, DataLoader\n",
    "from skimage.transform import resize\n",
    "import torch\n",
    "import torch.nn as nn\n",
    "import torch.nn.functional as F\n",
    "import torchvision.utils as vutils\n",
    "from torch.autograd import Variable\n",
    "from torch import LongTensor, FloatTensor"
   ]
  },
  {
   "cell_type": "markdown",
   "metadata": {},
   "source": [
    "## 下载数据,更改部分代码实现测试集与训练集分别生成"
   ]
  },
  {
   "cell_type": "code",
   "execution_count": 21,
   "metadata": {
    "scrolled": true
   },
   "outputs": [
    {
     "data": {
      "text/plain": "datetime.timedelta(days=2557)"
     },
     "execution_count": 21,
     "metadata": {},
     "output_type": "execute_result"
    }
   ],
   "source": [
    "datetime(2017,1,1)-datetime(2010,1,1)\n",
    "# datetime(2020,1,1)-datetime(2017,1,1)"
   ]
  },
  {
   "cell_type": "code",
   "execution_count": 24,
   "metadata": {},
   "outputs": [],
   "source": [
    "    \n",
    "class NWSDataset(Dataset):\n",
    "    \"\"\"\n",
    "    NWS Dataset\n",
    "    \"\"\"\n",
    "\n",
    "    def __init__(\n",
    "        self, path='../train', prefix=\"sst\"  # train or test\n",
    "    ):\n",
    "        self.path = path\n",
    "        self.files = [\n",
    "                        f\n",
    "                        for f in os.listdir(path)\n",
    "                        if f.startswith(prefix) and os.path.isfile(os.path.join(path, f))\n",
    "                    ]\n",
    "        self.maxclip = 15  # sst range:  ~[-2,13.5]\n",
    "\n",
    "    def __len__(self):\n",
    "        return len(self.files)\n",
    "\n",
    "    def __getitem__(self, item):\n",
    "        nc = NetCDFFile(\n",
    "            os.path.join(self.path,self.files[item])\n",
    "        )\n",
    "        sst = nc.variables[\"sst\"]\n",
    "        data = sst[:] + 5  ## min(i.e. nan) = -5\n",
    "        data = FloatTensor(resize(data, (64, 64)))  ## raw size -> 64*64\n",
    "        data = data.view((-1, 64, 64))\n",
    "        data = torch.clamp(data, max=self.maxclip)  ## set upper boundary is 100\n",
    "        data = data / self.maxclip\n",
    "        data = (data * 2) - 1  # value range: [-1, 1]\n",
    "        return data\n",
    "\n"
   ]
  },
  {
   "cell_type": "code",
   "execution_count": 25,
   "metadata": {
    "scrolled": true
   },
   "outputs": [
    {
     "name": "stdout",
     "output_type": "stream",
     "text": [
      "torch.Size([2557, 1, 64, 64])\n",
      "(2557,)\n"
     ]
    }
   ],
   "source": [
    "## batch_size：选择多少数据打成一个包  batch =  NWSDataset(len) / batch-size\n",
    "dataloader = DataLoader(NWSDataset(), batch_size=256, shuffle=True)\n",
    "data = []\n",
    "for i in dataloader:\n",
    "    data.append(i)\n",
    "data = torch.cat(data, 0)\n",
    "sums = data.sum(dim = (1, 2, 3)).detach().cpu().numpy().argsort()[::-1].copy()\n",
    "torch.save(data.data[sums], '../data/train.pt')  # train or test\n",
    "print(data.data[sums].shape)\n",
    "print(sums.shape)\n",
    "# train n:2557\n",
    "# test n:1462"
   ]
  },
  {
   "cell_type": "code",
   "execution_count": 18,
   "metadata": {},
   "outputs": [
    {
     "name": "stdout",
     "output_type": "stream",
     "text": [
      "torch.Size([2557, 601, 205])\n",
      "tensor([[ 4.0222,  3.7740,  3.9718,  ...,  4.9583,  4.9628,  4.9572],\n",
      "        [ 3.7986,  3.5147,  3.7409,  ...,  4.9461,  4.9485,  4.9455],\n",
      "        [ 3.5750,  3.2554,  3.5101,  ...,  4.9339,  4.9342,  4.9338],\n",
      "        ...,\n",
      "        [11.8192, 13.1904, 12.0977,  ..., 10.3824, 10.3988, 10.3782],\n",
      "        [11.9643, 13.3249, 12.2407,  ..., 10.3733, 10.3877, 10.3696],\n",
      "        [12.1094, 13.4594, 12.3836,  ..., 10.3641, 10.3767, 10.3609]])\n"
     ]
    }
   ],
   "source": [
    "data2=torch.load('../data/train.pt')\n",
    "n=data2.shape[0]\n",
    "data2=data2[:,:,:,:].detach().numpy()\n",
    "data2=data2.squeeze()\n",
    "### 逆归一化\n",
    "data2=(data2+1)/2\n",
    "data2=data2*15\n",
    "data2 = FloatTensor(resize(data2, (n,601, 205)))\n",
    "# idx = data2>(0)\n",
    "print(data2.shape)\n",
    "print(data2[1,:,:])"
   ]
  }
 ],
 "metadata": {
  "kernelspec": {
   "display_name": "Python 3",
   "language": "python",
   "name": "python3"
  },
  "language_info": {
   "codemirror_mode": {
    "name": "ipython",
    "version": 3
   },
   "file_extension": ".py",
   "mimetype": "text/x-python",
   "name": "python",
   "nbconvert_exporter": "python",
   "pygments_lexer": "ipython3",
   "version": "3.7.6"
  }
 },
 "nbformat": 4,
 "nbformat_minor": 4
}
