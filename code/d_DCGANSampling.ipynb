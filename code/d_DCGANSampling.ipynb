{
 "cells": [
  {
   "cell_type": "code",
   "execution_count": 1,
   "metadata": {
    "collapsed": true
   },
   "outputs": [],
   "source": [
    "from tensorboardX import SummaryWriter\n",
    "import numpy as np\n",
    "import matplotlib.pyplot as plt\n",
    "import os\n",
    "import torch\n",
    "import torch.nn as nn\n",
    "import time\n",
    "from scipy.stats import genpareto\n",
    "import torch.nn.functional as F\n",
    "from torch.autograd import Variable\n",
    "from torch import FloatTensor\n"
   ]
  },
  {
   "cell_type": "code",
   "execution_count": 2,
   "outputs": [],
   "source": [
    "# class generator\n",
    "def convTBNReLU(in_channels, out_channels, kernel_size=4, stride=2, padding=1):\n",
    "    return nn.Sequential(\n",
    "        nn.ConvTranspose2d(\n",
    "            in_channels,\n",
    "            out_channels,\n",
    "            kernel_size=kernel_size,\n",
    "            stride=stride,\n",
    "            padding=padding,\n",
    "        ),\n",
    "        nn.InstanceNorm2d(out_channels),\n",
    "        nn.LeakyReLU(0.2, True),\n",
    "    )\n",
    "\n",
    "\n",
    "class Generator(nn.Module):\n",
    "    def __init__(self, in_channels, out_channels):\n",
    "        super(Generator, self).__init__()\n",
    "        self.in_channels = in_channels\n",
    "        self.out_channels = out_channels\n",
    "        self.block1 = convTBNReLU(in_channels, 512, 4, 1, 0)\n",
    "        self.block2 = convTBNReLU(512, 256)\n",
    "        self.block3 = convTBNReLU(256, 128)\n",
    "        self.block4 = convTBNReLU(128, 64)\n",
    "        self.block5 = nn.ConvTranspose2d(64, out_channels, 4, 2, 1)\n",
    "\n",
    "    def forward(self, inp):\n",
    "        out = self.block1(inp)\n",
    "        out = self.block2(out)\n",
    "        out = self.block3(out)\n",
    "        out = self.block4(out)\n",
    "        return torch.tanh(self.block5(out))"
   ],
   "metadata": {
    "collapsed": false
   }
  },
  {
   "cell_type": "code",
   "execution_count": 3,
   "outputs": [
    {
     "name": "stdout",
     "output_type": "stream",
     "text": [
      "0.7308893203735352\n"
     ]
    }
   ],
   "source": [
    "latentdim = 20\n",
    "G = Generator(in_channels=latentdim, out_channels=1).cuda()\n",
    "genpareto_params = (1.33, 0, 0.0075761900937239765)\n",
    "threshold = -0.946046018600464\n",
    "rv = genpareto(*genpareto_params)  # rv -> return value\n",
    "\n",
    "G.load_state_dict(torch.load('../DCGAN/G999.pt'))\n",
    "G.eval()\n",
    "\n",
    "c = 0.75\n",
    "k = 10\n",
    "# restart this file for right time\n",
    "tau=0.005  # extreme pro\n",
    "tau_prime = tau / (c**k)\n",
    "val = rv.ppf(1-tau_prime) + threshold\n",
    "images = []\n",
    "count = 0\n",
    "t = time.time()\n",
    "while count<100:\n",
    "    latent = Variable(FloatTensor(torch.randn((100, latentdim, 1, 1)))).cuda()\n",
    "    image = G(latent)\n",
    "    sums = image.sum(dim=(1, 2, 3))/4096 >= val\n",
    "    if sums.nonzero().shape[0] > 0:\n",
    "        images.append(image[sums])\n",
    "        count += sums.nonzero().shape[0]\n",
    "print(time.time() - t)\n",
    "images = torch.cat(images, 0)[:100]\n",
    "torch.save(images, '/data/DCGAN'+str(tau)+'.pt')"
   ],
   "metadata": {
    "collapsed": false
   }
  },
  {
   "cell_type": "code",
   "execution_count": 4,
   "outputs": [],
   "source": [
    "# 0.05 -> 0.71 0.74 0.75 0.76 0.73\n",
    "# 0.01 -> 0.72 0.74 0.75 0.71 0.72\n",
    "# 0.005 -> 0.72 0.71 0.74 0.75 0.71\n",
    "# 0.001 -> fail"
   ],
   "metadata": {
    "collapsed": false
   }
  }
 ],
 "metadata": {
  "kernelspec": {
   "display_name": "Python 3",
   "language": "python",
   "name": "python3"
  },
  "language_info": {
   "codemirror_mode": {
    "name": "ipython",
    "version": 2
   },
   "file_extension": ".py",
   "mimetype": "text/x-python",
   "name": "python",
   "nbconvert_exporter": "python",
   "pygments_lexer": "ipython2",
   "version": "2.7.6"
  }
 },
 "nbformat": 4,
 "nbformat_minor": 0
}
