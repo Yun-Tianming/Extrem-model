{
 "cells": [
  {
   "cell_type": "code",
   "execution_count": 226,
   "outputs": [],
   "source": [
    "# 解决内核挂掉的问题\n",
    "import os\n",
    "os.environ[\"KMP_DUPLICATE_LIB_OK\"]  =  \"TRUE\""
   ],
   "metadata": {
    "collapsed": false
   }
  },
  {
   "cell_type": "code",
   "execution_count": 227,
   "outputs": [],
   "source": [
    "import torch\n",
    "import torch.nn as nn\n",
    "import torch.nn.functional as F\n",
    "from torch.autograd import Variable\n",
    "import numpy as np\n",
    "import matplotlib.pyplot as plt\n",
    "from skimage.transform import resize\n",
    "from torchvision import transforms\n",
    "from scipy import linalg\n",
    "import warnings\n"
   ],
   "metadata": {
    "collapsed": false
   }
  },
  {
   "cell_type": "code",
   "execution_count": 228,
   "metadata": {
    "scrolled": true
   },
   "outputs": [
    {
     "data": {
      "text/plain": "AutoEncoder(\n  (encoder): Sequential(\n    (0): Linear(in_features=4096, out_features=128, bias=True)\n    (1): ReLU(inplace=True)\n    (2): Dropout(p=0.5, inplace=False)\n  )\n  (decoder): Sequential(\n    (0): Linear(in_features=128, out_features=4096, bias=True)\n  )\n)"
     },
     "execution_count": 228,
     "metadata": {},
     "output_type": "execute_result"
    },
    {
     "data": {
      "text/plain": "<Figure size 640x480 with 1 Axes>",
      "image/png": "[encoded data removed]"
     },
     "metadata": {},
     "output_type": "display_data"
    }
   ],
   "source": [
    "numSamples = 57\n",
    "EPOCHS = 50\n",
    "loss_func = nn.L1Loss()\n",
    "\n",
    "class AutoEncoder(nn.Module):\n",
    "    def __init__(self):\n",
    "        super(AutoEncoder, self).__init__()\n",
    "        self.encoder = nn.Sequential(nn.Linear(4096,128), nn.ReLU(True), nn.Dropout())\n",
    "        self.decoder = nn.Sequential(nn.Linear(128,4096))\n",
    "        \n",
    "    def forward(self,x):\n",
    "        x = self.encoder(x)\n",
    "        x = self.decoder(x)\n",
    "        return x\n",
    "\n",
    "ae = AutoEncoder().cuda()\n",
    "optimizer = torch.optim.Adam(ae.parameters(), lr=1e-3)\n",
    "data = data.reshape(data.shape[0], -1)[:numSamples]\n",
    "losses = []\n",
    "\n",
    "for epoch in range(EPOCHS):   \n",
    "    x = torch.autograd.Variable(data[torch.randperm(numSamples)]).cuda()\n",
    "    optimizer.zero_grad()\n",
    "    pred = ae(x)\n",
    "    loss = loss_func(pred, x)\n",
    "    losses.append(loss.cpu().data.item())\n",
    "    loss.backward()\n",
    "    optimizer.step()\n",
    "plt.plot(losses)\n",
    "\n",
    "ae.eval()"
   ]
  },
  {
   "cell_type": "code",
   "execution_count": 229,
   "metadata": {},
   "outputs": [],
   "source": [
    "def FID(mu1, mu2, sigma1, sigma2): \n",
    "    eps=1e-30\n",
    "    mu1 = np.atleast_1d(mu1)\n",
    "    mu2 = np.atleast_1d(mu2)\n",
    "\n",
    "    sigma1 = np.atleast_2d(sigma1)\n",
    "    sigma2 = np.atleast_2d(sigma2)\n",
    "\n",
    "    assert mu1.shape == mu2.shape, \"Training and test mean vectors have different lengths\"\n",
    "    assert sigma1.shape == sigma2.shape, \"Training and test covariances have different dimensions\"\n",
    "\n",
    "    diff = mu1 - mu2\n",
    "    # product might be almost singular\n",
    "    covmean, _ = linalg.sqrtm(sigma1.dot(sigma2), disp=False)\n",
    "    if not np.isfinite(covmean).all():\n",
    "        msg = \"fid calculation produces singular product; adding %s to diagonal of cov estimates\" % eps\n",
    "        warnings.warn(msg)\n",
    "        offset = np.eye(sigma1.shape[0]) * eps\n",
    "        covmean = linalg.sqrtm((sigma1 + offset).dot(sigma2 + offset))\n",
    "\n",
    "    # numerical error might give slight imaginary component\n",
    "    if np.iscomplexobj(covmean):\n",
    "        if not np.allclose(np.diagonal(covmean).imag, 0, atol=1e-3):\n",
    "            m = np.max(np.abs(covmean.imag))\n",
    "            raise ValueError(\"Imaginary component {}\".format(m))\n",
    "        covmean = covmean.real\n",
    "\n",
    "    tr_covmean = np.trace(covmean)\n",
    "    return diff.dot(diff) + np.trace(sigma1) + np.trace(sigma2) - 2 * tr_covmean\n",
    "\n",
    "# def calcFID(data):\n",
    "#     data = data.reshape(data.shape[0], -1)\n",
    "#     features = ae.encoder(data.cuda()).detach().cpu().numpy()\n",
    "#     mean, covar = np.mean(features, 0), np.cov(features, rowvar=False)\n",
    "#     return FID(mean, base_mean, covar, base_covar)"
   ]
  },
  {
   "cell_type": "code",
   "execution_count": 230,
   "metadata": {},
   "outputs": [
    {
     "name": "stderr",
     "output_type": "stream",
     "text": [
      "C:\\Users\\mfy\\AppData\\Local\\Temp\\ipykernel_9128\\3727952237.py:17: UserWarning: fid calculation produces singular product; adding 1e-30 to diagonal of cov estimates\n",
      "  warnings.warn(msg)\n"
     ]
    },
    {
     "data": {
      "text/plain": "2.376188838787603"
     },
     "execution_count": 230,
     "metadata": {},
     "output_type": "execute_result"
    }
   ],
   "source": [
    "data = torch.load('../data/test.pt')\n",
    "data2 =  torch.load('../data/ExGAN0.005.pt')\n",
    "\n",
    "data = data.reshape(data.shape[0], -1)\n",
    "features = ae.encoder(data.cuda()).detach().cpu().numpy()\n",
    "mean, covar = np.mean(features, 0), np.cov(features, rowvar=False)\n",
    "data2 = data2.reshape(data2.shape[0], -1)\n",
    "base_features = ae.encoder(Variable(data2).cuda()).detach().cpu().numpy()\n",
    "base_mean, base_covar = np.mean(base_features, 0), np.cov(base_features, rowvar=False)\n",
    "FID(mean, base_mean, covar, base_covar)"
   ]
  },
  {
   "cell_type": "code",
   "execution_count": 230,
   "metadata": {},
   "outputs": [],
   "source": []
  }
 ],
 "metadata": {
  "kernelspec": {
   "display_name": "Python 3",
   "language": "python",
   "name": "python3"
  },
  "language_info": {
   "codemirror_mode": {
    "name": "ipython",
    "version": 3
   },
   "file_extension": ".py",
   "mimetype": "text/x-python",
   "name": "python",
   "nbconvert_exporter": "python",
   "pygments_lexer": "ipython3",
   "version": "3.7.6"
  }
 },
 "nbformat": 4,
 "nbformat_minor": 4
}
